{
 "cells": [
  {
   "cell_type": "markdown",
   "id": "c5b3da51",
   "metadata": {},
   "source": [
    "# Compute number of comparisons made during QuickSort algorithm\n",
    "Runs in $N\\log(N)$ time"
   ]
  },
  {
   "cell_type": "markdown",
   "id": "1f60b4e3",
   "metadata": {},
   "source": [
    "Read in the input array"
   ]
  },
  {
   "cell_type": "code",
   "execution_count": 38,
   "id": "ecd11a71",
   "metadata": {},
   "outputs": [],
   "source": [
    "arr = []\n",
    "\n",
    "with open(\"intArray.txt\") as file:\n",
    "    for l in file.readlines():\n",
    "        arr.append(int(l.strip('\\n')))"
   ]
  },
  {
   "cell_type": "code",
   "execution_count": 39,
   "id": "b5c258f2",
   "metadata": {},
   "outputs": [],
   "source": [
    "def quick_sort(A: list, left: int, right: int):\n",
    "    \"\"\"\n",
    "    Peform quicksort on list A with left and right as bounding indices\n",
    "    :param A: list to sort\n",
    "    :param left: left bound of sorted region\n",
    "    :param right: right bound of sorted region\n",
    "    :return: Number of comparisons made\n",
    "    \"\"\"\n",
    "    \n",
    "    if left < right:\n",
    "\n",
    "        # Partition around some pivot point\n",
    "        mid = partition(A, left, right)\n",
    "        comps = right - left\n",
    "\n",
    "        # Sort on both sides of the partition, count comparisons made\n",
    "        comps += quick_sort(A, left, mid - 1)\n",
    "        comps += quick_sort(A, mid + 1, right)\n",
    "        \n",
    "        return comps\n",
    "    else:\n",
    "        # Base case, no comparisons to be made\n",
    "        return 0"
   ]
  },
  {
   "cell_type": "code",
   "execution_count": 40,
   "id": "3221d709",
   "metadata": {},
   "outputs": [],
   "source": [
    "def partition(A: list, l: int, r: int):\n",
    "    \"\"\"\n",
    "    Compute a partition index with passed list A. Pivot is choosen as the median of [first, mid, last].\n",
    "    :param A: list, list to be partitioned\n",
    "    :param l: int, left bound of region to partition\n",
    "    :param r: int, right bound of region to partition\n",
    "    :return: final index of pivot point that define partion, number of comparisons made\n",
    "    \"\"\"\n",
    "\n",
    "    # Compute midpoint and make list of choices for pivot\n",
    "    m = int((r + l) / 2)\n",
    "    chcs = [A[l], A[r], A[m]]\n",
    "    chcs.sort()\n",
    "\n",
    "    # Get the median value. Use the corresponding index as pivot\n",
    "    if chcs[1] == A[r]:\n",
    "        pi = r\n",
    "    elif chcs[1] == A[l]:\n",
    "        pi = l\n",
    "    else:\n",
    "        pi = m\n",
    "    p = A[pi]\n",
    "\n",
    "    # Set up for sorting around pivot\n",
    "    temp = A[l]\n",
    "    A[l] = A[pi]\n",
    "    A[pi] = temp\n",
    "    j = l+1\n",
    "    \n",
    "    for i in range(l+1, r+1):\n",
    "        if A[i] <= p:\n",
    "            temp = A[i]\n",
    "            A[i] = A[j]\n",
    "            A[j] = temp\n",
    "            j += 1\n",
    "    \n",
    "    temp = A[j-1]\n",
    "    A[j-1] = p\n",
    "    A[l] = temp\n",
    "\n",
    "    # Return the final index of the pivot value and the number of comparisons made\n",
    "    return j-1"
   ]
  },
  {
   "cell_type": "code",
   "execution_count": 41,
   "id": "f4aba728",
   "metadata": {
    "pycharm": {
     "is_executing": true
    }
   },
   "outputs": [
    {
     "name": "stdout",
     "output_type": "stream",
     "text": [
      "138382\n",
      "QuickSort ran in  0.07922148704528809 seconds. Input size: 10000\n"
     ]
    }
   ],
   "source": [
    "import time\n",
    "begin = time.time()\n",
    "print(quick_sort(arr, 0, len(arr)-1))\n",
    "print(\"QuickSort ran in \", time.time() - begin, \"seconds. Input size:\", len(arr))"
   ]
  },
  {
   "cell_type": "code",
   "execution_count": null,
   "id": "043f5505",
   "metadata": {},
   "outputs": [],
   "source": []
  }
 ],
 "metadata": {
  "kernelspec": {
   "display_name": "Python 3 (ipykernel)",
   "language": "python",
   "name": "python3"
  },
  "language_info": {
   "codemirror_mode": {
    "name": "ipython",
    "version": 3
   },
   "file_extension": ".py",
   "mimetype": "text/x-python",
   "name": "python",
   "nbconvert_exporter": "python",
   "pygments_lexer": "ipython3",
   "version": "3.9.13"
  }
 },
 "nbformat": 4,
 "nbformat_minor": 5
}
