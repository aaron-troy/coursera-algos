{
 "cells": [
  {
   "cell_type": "code",
   "execution_count": 9,
   "id": "1602f4e0",
   "metadata": {},
   "outputs": [],
   "source": [
    "import random\n",
    "import copy\n",
    "import time"
   ]
  },
  {
   "cell_type": "markdown",
   "id": "3fa28431",
   "metadata": {},
   "source": [
    "# Karger's random contractions algorithm for computing minimum cuts\n",
    "This algorithm takes a Monte Carlo approach to compute the minimum cut of an undirected graph. "
   ]
  },
  {
   "cell_type": "markdown",
   "id": "60dce5fb",
   "metadata": {},
   "source": [
    "### Vertex class for building graphs"
   ]
  },
  {
   "cell_type": "code",
   "execution_count": 5,
   "id": "8dc4c49b",
   "metadata": {},
   "outputs": [],
   "source": [
    "class Vertex:\n",
    "    \n",
    "    def __init__(self, node):\n",
    "        self.id = node\n",
    "        self.adjacent = {}\n",
    "        \n",
    "    def add_neighbor(self, neighbor, weight=0):\n",
    "        self.adjacent[neighbor] = weight\n",
    "\n",
    "    def get_connections(self):\n",
    "        return self.adjacent.keys()  \n",
    "\n",
    "    def get_id(self):\n",
    "        return self.id\n",
    "    \n",
    "    def get_weight(self, neighbor):\n",
    "        return self.adjacent[neighbor]\n"
   ]
  },
  {
   "cell_type": "markdown",
   "id": "44117ded",
   "metadata": {},
   "source": [
    "### Graph class"
   ]
  },
  {
   "cell_type": "code",
   "execution_count": 6,
   "id": "639222af",
   "metadata": {},
   "outputs": [],
   "source": [
    "class Graph:\n",
    "    \n",
    "    def __init__(self):\n",
    "        self.verts = {}\n",
    "        self.edges = []\n",
    "        self.num_verts = 0\n",
    "        \n",
    "    def add_vert(self, node):\n",
    "        new_vert = Vertex(node)\n",
    "        self.verts[node] = new_vert\n",
    "        self.num_verts += 1\n",
    "        return new_vert\n",
    "    \n",
    "    def remove_vert(self, node):\n",
    "        \n",
    "        if node in self.verts:\n",
    "            return self.verts.pop(node)\n",
    "    \n",
    "    def get_vertices(self):\n",
    "        return self.verts.keys()\n",
    "    \n",
    "    def get_vert(self, node):\n",
    "        if node in self.verts:\n",
    "            return self.verts[node]\n",
    "        else:\n",
    "            return None\n",
    "        \n",
    "    def add_edge(self, start, end, cost = 0):\n",
    "        \n",
    "        if start not in self.verts:\n",
    "            self.add_vert(start)\n",
    "        \n",
    "        if end not in self.verts:\n",
    "            self.add_vert(end)\n",
    "            \n",
    "        self.verts[start].add_neighbor(self.verts[end], cost)\n",
    "        self.verts[end].add_neighbor(self.verts[start], cost)\n",
    "        \n",
    "        if (set([start, end]) not in self.edges):  \n",
    "            self.edges.append(set([start, end]))\n",
    "        \n",
    "    \n",
    "    # Edge contraction method\n",
    "    def contract_edge(self, start, end):\n",
    "        \n",
    "        if (start not in self.verts) or (end not in self.verts):\n",
    "            print(\"Edge nodes not in graph\")\n",
    "            return None\n",
    "        \n",
    "        if set([start, end]) not in self.edges:\n",
    "            print(\"Edge not in graph\")\n",
    "            return None\n",
    "        \n",
    "        self.remove_vert(end)\n",
    "        self.num_verts = self.num_verts - 1\n",
    "        \n",
    "        #Iterate over all edges. Those linked to the end node are now linked to the start\n",
    "        for i in range(len(self.edges)):\n",
    "            \n",
    "            if end in self.edges[i]:\n",
    "                self.edges[i].remove(end)\n",
    "                self.edges[i].add(start)\n",
    "            \n",
    "        #Remove any self loops that may result\n",
    "        while set([start]) in self.edges:\n",
    "            self.edges.remove(set([start]))"
   ]
  },
  {
   "cell_type": "markdown",
   "id": "f7bf413d",
   "metadata": {},
   "source": [
    "### Read in the input array"
   ]
  },
  {
   "cell_type": "code",
   "execution_count": 7,
   "id": "9dd48ef7",
   "metadata": {},
   "outputs": [],
   "source": [
    "arr = []\n",
    "\n",
    "with open(\"kargerMinCut.txt\") as file:\n",
    "    for l in file.readlines():\n",
    "        arr.append([int(i) for i in l.split('\\t')[:-1]])\n",
    "\n",
    "nodes = [a.pop(0) for a in arr]\n",
    "edgs = arr.copy()"
   ]
  },
  {
   "cell_type": "code",
   "execution_count": 8,
   "id": "8fb739b9",
   "metadata": {},
   "outputs": [],
   "source": [
    "graph_in = Graph()\n",
    "for n, es in zip(nodes, edgs):\n",
    "    for e in es:\n",
    "        graph_in.add_edge(n, e)"
   ]
  },
  {
   "cell_type": "code",
   "execution_count": 13,
   "id": "b09d806d",
   "metadata": {},
   "outputs": [
    {
     "name": "stdout",
     "output_type": "stream",
     "text": [
      "20\n",
      "Kargers algorithm ran in 3.0587682723999023 seconds. Input size:  200\n"
     ]
    }
   ],
   "source": [
    "#Number of random seeds to run the algo with\n",
    "num_iter = 10\n",
    "i = 0\n",
    "\n",
    "# Establish an initial min cut size\n",
    "min_cut = float(\"inf\")\n",
    "\n",
    "begin = time.time()\n",
    "\n",
    "while i < num_iter:\n",
    "    \n",
    "    # Get a copy of the original graph \n",
    "    graph = copy.deepcopy(graph_in)\n",
    "    \n",
    "    # Iteratively contract edges until only two vertices remain \n",
    "    while graph.num_verts > 2:\n",
    "        s, e = graph.edges[random.randint(0,len(graph.edges)-1)]\n",
    "        graph.contract_edge(s,e)\n",
    "    \n",
    "    # Keep track of the smallest cut size\n",
    "    if len(graph.edges) < min_cut:\n",
    "        min_cut = len(graph.edges)\n",
    "    i += 1\n",
    "\n",
    "print(min_cut)\n",
    "print('Kargers algorithm ran in', time.time() - begin, 'seconds. Input size: ', len(arr))"
   ]
  },
  {
   "cell_type": "code",
   "execution_count": null,
   "id": "ae3e6ec0",
   "metadata": {},
   "outputs": [],
   "source": []
  }
 ],
 "metadata": {
  "kernelspec": {
   "display_name": "Python 3 (ipykernel)",
   "language": "python",
   "name": "python3"
  },
  "language_info": {
   "codemirror_mode": {
    "name": "ipython",
    "version": 3
   },
   "file_extension": ".py",
   "mimetype": "text/x-python",
   "name": "python",
   "nbconvert_exporter": "python",
   "pygments_lexer": "ipython3",
   "version": "3.9.13"
  }
 },
 "nbformat": 4,
 "nbformat_minor": 5
}
