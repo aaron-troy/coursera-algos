{
 "cells": [
  {
   "cell_type": "code",
   "execution_count": 50,
   "id": "6dc6a5eb",
   "metadata": {},
   "outputs": [],
   "source": [
    "arr = []\n",
    "\n",
    "with open(\"IntegerArray.txt\") as file:\n",
    "    for l in file.readlines():\n",
    "        arr.append(int(l.strip('\\n')))"
   ]
  },
  {
   "cell_type": "code",
   "execution_count": 51,
   "id": "4eda25f0",
   "metadata": {},
   "outputs": [
    {
     "data": {
      "text/plain": [
       "100000"
      ]
     },
     "execution_count": 51,
     "metadata": {},
     "output_type": "execute_result"
    }
   ],
   "source": [
    "len(arr)"
   ]
  },
  {
   "cell_type": "markdown",
   "id": "ff983b36",
   "metadata": {},
   "source": [
    "#### Recursive divide and conquer approach to computing the number of inversions\n",
    "Each call of count_num_inversions triggers 2 recursive calls on arrs half the size of the input array, until reach the base case. We then call count_split_inversions, which counts the inversion incurred from merging a left and right array. This in turn returns a sorted combined array, sending things back up the recursion tree. \n",
    "\n",
    "count_num_inversions trigger a = 2 recursive calls, each with input N / b, b = 2 size. I belive count split inversions should run in linear time, meaning d = 1. By the master method, we have a = b^d, meaning this should run in N*log(N) time. "
   ]
  },
  {
   "cell_type": "code",
   "execution_count": 53,
   "id": "036a0de1",
   "metadata": {},
   "outputs": [],
   "source": [
    "def count_num_inversions(nums):\n",
    "    \n",
    "    if len(nums) == 1:\n",
    "        \n",
    "        return nums, 0\n",
    "    \n",
    "    mid = int(len(nums) / 2) \n",
    "    \n",
    "    lft, x = count_num_inversions(nums[0:mid])\n",
    "    rgt, y = count_num_inversions(nums[mid:])\n",
    "    ful, z = count_split_inversions(lft, rgt)\n",
    "    \n",
    "    return ful, x + y + z\n",
    "    "
   ]
  },
  {
   "cell_type": "code",
   "execution_count": 52,
   "id": "91fae860",
   "metadata": {},
   "outputs": [],
   "source": [
    "def count_split_inversions(left, right):\n",
    "    \n",
    "    N = len(left) + len(right)\n",
    "    i = j = 0\n",
    "    splits = 0\n",
    "    comb = []\n",
    "    \n",
    "    for k in range(N):\n",
    "        if left[i] <= right[j]:\n",
    "            comb.append(left[i])\n",
    "            i += 1\n",
    "            if i == len(left):\n",
    "                comb = comb + right[j:]\n",
    "                break\n",
    "        else:\n",
    "            comb.append(right[j])\n",
    "            j += 1\n",
    "            splits += len(left) - i\n",
    "            if j == len(right):\n",
    "                comb = comb + left[i:]\n",
    "                break\n",
    "    \n",
    "    return comb, splits\n",
    "    "
   ]
  },
  {
   "cell_type": "code",
   "execution_count": 54,
   "id": "4791460e",
   "metadata": {},
   "outputs": [],
   "source": [
    "_, invs = count_num_inversions(arr)"
   ]
  },
  {
   "cell_type": "code",
   "execution_count": 55,
   "id": "c31fa4a1",
   "metadata": {},
   "outputs": [
    {
     "data": {
      "text/plain": [
       "2407905288"
      ]
     },
     "execution_count": 55,
     "metadata": {},
     "output_type": "execute_result"
    }
   ],
   "source": [
    "invs"
   ]
  },
  {
   "cell_type": "code",
   "execution_count": null,
   "id": "acfb4493",
   "metadata": {},
   "outputs": [],
   "source": []
  }
 ],
 "metadata": {
  "kernelspec": {
   "display_name": "Python 3 (ipykernel)",
   "language": "python",
   "name": "python3"
  },
  "language_info": {
   "codemirror_mode": {
    "name": "ipython",
    "version": 3
   },
   "file_extension": ".py",
   "mimetype": "text/x-python",
   "name": "python",
   "nbconvert_exporter": "python",
   "pygments_lexer": "ipython3",
   "version": "3.9.13"
  }
 },
 "nbformat": 4,
 "nbformat_minor": 5
}
