{
 "cells": [
  {
   "cell_type": "markdown",
   "id": "40843d77",
   "metadata": {},
   "source": [
    "#### Read in the input file\n",
    "Input is a text file with one integer per line"
   ]
  },
  {
   "cell_type": "markdown",
   "id": "b468a050",
   "metadata": {},
   "source": [
    "## Divide and conquer approach for counting the number of inversions in an array\n",
    "\n",
    "Recursive merge-sort approach that runs in $$N L"
   ]
  },
  {
   "cell_type": "code",
   "execution_count": 3,
   "id": "6dc6a5eb",
   "metadata": {},
   "outputs": [],
   "source": [
    "arr = []\n",
    "\n",
    "with open(\"IntegerArray.txt\") as file:\n",
    "    for l in file.readlines():\n",
    "        arr.append(int(l.strip('\\n')))"
   ]
  },
  {
   "cell_type": "markdown",
   "id": "ff983b36",
   "metadata": {},
   "source": [
    "#### Recursive divide and conquer approach to computing the number of inversions in an input array\n",
    "Each call of count_num_inversions triggers 2 recursive calls on arrs half the size of the input array, until reach the base case. We then call count_split_inversions, which counts the inversion incurred from merging a left and right array. This in turn returns a sorted combined array, sending things back up the recursion tree. \n",
    "\n",
    "count_num_inversions trigger a = 2 recursive calls, each with input N / b, b = 2 size. I belive count split inversions should run in linear time, meaning d = 1. By the master method, we have a = b^d, meaning this should run in N*log(N) time. "
   ]
  },
  {
   "cell_type": "code",
   "execution_count": 4,
   "id": "036a0de1",
   "metadata": {},
   "outputs": [],
   "source": [
    "def count_num_inversions(nums):\n",
    "    \n",
    "    # Base case; If the array has one element return array and 0\n",
    "    if len(nums) == 1:\n",
    "        \n",
    "        return nums, 0\n",
    "    \n",
    "    # Get the mid point\n",
    "    mid = int(len(nums) / 2) \n",
    "    \n",
    "    # Recurisve calls for left, right, and split inversions \n",
    "    lft, x = count_num_inversions(nums[0:mid])\n",
    "    rgt, y = count_num_inversions(nums[mid:])\n",
    "    ful, z = count_split_inversions(lft, rgt)\n",
    "    \n",
    "    return ful, x + y + z\n",
    "    "
   ]
  },
  {
   "cell_type": "code",
   "execution_count": 5,
   "id": "91fae860",
   "metadata": {},
   "outputs": [],
   "source": [
    "def count_split_inversions(left, right):\n",
    "    \n",
    "    # Length of combined output\n",
    "    N = len(left) + len(right)\n",
    "    \n",
    "    # Indices for passing through arrays\n",
    "    i = j = 0\n",
    "    \n",
    "    # Num. of split inversions\n",
    "    splits = 0\n",
    "    \n",
    "    # Empty array for combined output\n",
    "    comb = []\n",
    "    \n",
    "    # Populate the output array in sorted order, counting the resulting inversions \n",
    "    # from members of the right array being less than those in the left. \n",
    "    for k in range(N):\n",
    "        if left[i] <= right[j]:\n",
    "            comb.append(left[i])\n",
    "            i += 1\n",
    "            if i == len(left):\n",
    "                comb = comb + right[j:]\n",
    "                break\n",
    "        else:\n",
    "            comb.append(right[j])\n",
    "            j += 1\n",
    "            splits += len(left) - i\n",
    "            if j == len(right):\n",
    "                comb = comb + left[i:]\n",
    "                break\n",
    "    \n",
    "    return comb, splits\n",
    "    "
   ]
  },
  {
   "cell_type": "code",
   "execution_count": 9,
   "id": "4791460e",
   "metadata": {},
   "outputs": [
    {
     "name": "stdout",
     "output_type": "stream",
     "text": [
      "Counting inversions ran in 0.3573904037475586 seconds. Input size: 100000\n",
      "Number of inversions in array:  600213199\n"
     ]
    }
   ],
   "source": [
    "import time\n",
    "\n",
    "begin = time.time()\n",
    "_, invs = count_num_inversions(arr[0:int(len(arr) / 2)])\n",
    "print(\"Counting inversions ran in\", time.time() - begin, \"seconds. Input size:\", len(arr))\n",
    "print(\"Number of inversions in array: \", invs)"
   ]
  },
  {
   "cell_type": "markdown",
   "id": "f4162d42",
   "metadata": {},
   "source": [
    "### Plot the running time for differnt input sizes. Result appears near linear $(N log(N))$, as expected "
   ]
  },
  {
   "cell_type": "code",
   "execution_count": 16,
   "id": "3334eccb",
   "metadata": {},
   "outputs": [],
   "source": [
    "import matplotlib.pyplot as plt\n",
    "import numpy as np\n",
    "times = []\n",
    "for i in np.linspace(0.1, 1, 10):\n",
    "\n",
    "    begin = time.time()\n",
    "    _, invs = count_num_inversions(arr[0:int(len(arr) * i)])\n",
    "    times.append(time.time() - begin)\n",
    "plt.scatter(np.linspace(0.1, 1, 10), times)"
   ]
  },
  {
   "cell_type": "code",
   "execution_count": null,
   "id": "4b42254d",
   "metadata": {},
   "outputs": [],
   "source": []
  }
 ],
 "metadata": {
  "kernelspec": {
   "display_name": "Python 3 (ipykernel)",
   "language": "python",
   "name": "python3"
  },
  "language_info": {
   "codemirror_mode": {
    "name": "ipython",
    "version": 3
   },
   "file_extension": ".py",
   "mimetype": "text/x-python",
   "name": "python",
   "nbconvert_exporter": "python",
   "pygments_lexer": "ipython3",
   "version": "3.9.13"
  }
 },
 "nbformat": 4,
 "nbformat_minor": 5
}
